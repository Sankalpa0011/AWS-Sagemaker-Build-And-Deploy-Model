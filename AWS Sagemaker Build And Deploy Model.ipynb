{
 "cells": [
  {
   "cell_type": "markdown",
   "id": "f0ebb39a",
   "metadata": {},
   "source": [
    "# Steps"
   ]
  },
  {
   "cell_type": "code",
   "execution_count": 1,
   "id": "6bc4c19d",
   "metadata": {},
   "outputs": [],
   "source": [
    "# Data Preparation\n",
    "# Move Data Into S3 Bucket\n",
    "# Create Model\n",
    "# Train Model\n",
    "# Deploy Model"
   ]
  },
  {
   "cell_type": "markdown",
   "id": "53292aad",
   "metadata": {},
   "source": [
    "# Data Preparation"
   ]
  },
  {
   "cell_type": "code",
   "execution_count": 2,
   "id": "1c2c3daf",
   "metadata": {},
   "outputs": [
    {
     "data": {
      "text/plain": [
       "('data.zip', <http.client.HTTPMessage at 0x7fe472ba5450>)"
      ]
     },
     "execution_count": 2,
     "metadata": {},
     "output_type": "execute_result"
    }
   ],
   "source": [
    "# Download data\n",
    "import urllib.request\n",
    "urllib.request.urlretrieve(\"https://archive.ics.uci.edu/static/public/53/iris.zip\", \"data.zip\")"
   ]
  },
  {
   "cell_type": "code",
   "execution_count": 3,
   "id": "519dfb2f",
   "metadata": {},
   "outputs": [
    {
     "name": "stdout",
     "output_type": "stream",
     "text": [
      "Archive:  data.zip\r\n",
      "  inflating: data/Index              \r\n",
      "  inflating: data/bezdekIris.data    \r\n",
      "  inflating: data/iris.data          \r\n",
      "  inflating: data/iris.names         \r\n"
     ]
    }
   ],
   "source": [
    "# Unzip data\n",
    "!mkdir data\n",
    "!unzip data.zip -d data/"
   ]
  },
  {
   "cell_type": "code",
   "execution_count": 9,
   "id": "4bbce1e5",
   "metadata": {},
   "outputs": [],
   "source": [
    "import pandas as pd\n",
    "\n",
    "# Read data\n",
    "data = pd.read_csv(\"data/iris.data\", header=None)"
   ]
  },
  {
   "cell_type": "code",
   "execution_count": 10,
   "id": "b49b4079",
   "metadata": {},
   "outputs": [
    {
     "name": "stdout",
     "output_type": "stream",
     "text": [
      "       0    1    2    3  4\n",
      "0    5.1  3.5  1.4  0.2  0\n",
      "1    4.9  3.0  1.4  0.2  0\n",
      "2    4.7  3.2  1.3  0.2  0\n",
      "3    4.6  3.1  1.5  0.2  0\n",
      "4    5.0  3.6  1.4  0.2  0\n",
      "..   ...  ...  ...  ... ..\n",
      "145  6.7  3.0  5.2  2.3  1\n",
      "146  6.3  2.5  5.0  1.9  1\n",
      "147  6.5  3.0  5.2  2.0  1\n",
      "148  6.2  3.4  5.4  2.3  1\n",
      "149  5.9  3.0  5.1  1.8  1\n",
      "\n",
      "[150 rows x 5 columns]\n"
     ]
    },
    {
     "name": "stderr",
     "output_type": "stream",
     "text": [
      "/tmp/ipykernel_10848/2932030437.py:4: FutureWarning: Downcasting behavior in `replace` is deprecated and will be removed in a future version. To retain the old behavior, explicitly call `result.infer_objects(copy=False)`. To opt-in to the future behavior, set `pd.set_option('future.no_silent_downcasting', True)`\n",
      "  data[4] = data[4].replace(\"Iris-versicolor\", 2)\n"
     ]
    }
   ],
   "source": [
    "# Convert to numerical values\n",
    "data[4] = data[4].replace(\"Iris-setosa\", 0)\n",
    "data[4] = data[4].replace(\"Iris-virginica\", 1)\n",
    "data[4] = data[4].replace(\"Iris-versicolor\", 2)\n",
    "\n",
    "print(data)"
   ]
  },
  {
   "cell_type": "code",
   "execution_count": 11,
   "id": "57335cbd",
   "metadata": {},
   "outputs": [
    {
     "name": "stdout",
     "output_type": "stream",
     "text": [
      "       0    1    2    3  4\n",
      "0    5.7  3.0  4.2  1.2  2\n",
      "1    6.3  2.3  4.4  1.3  2\n",
      "2    5.1  2.5  3.0  1.1  2\n",
      "3    5.1  3.8  1.6  0.2  0\n",
      "4    6.3  2.5  5.0  1.9  1\n",
      "..   ...  ...  ...  ... ..\n",
      "145  6.7  3.3  5.7  2.1  1\n",
      "146  5.4  3.9  1.7  0.4  0\n",
      "147  4.9  3.1  1.5  0.1  0\n",
      "148  7.2  3.0  5.8  1.6  1\n",
      "149  5.0  3.5  1.3  0.3  0\n",
      "\n",
      "[150 rows x 5 columns]\n"
     ]
    }
   ],
   "source": [
    "# Shuffle\n",
    "data = data.sample(frac=1).reset_index(drop=True)\n",
    "\n",
    "print(data)"
   ]
  },
  {
   "cell_type": "code",
   "execution_count": 12,
   "id": "b930e91a",
   "metadata": {},
   "outputs": [
    {
     "name": "stdout",
     "output_type": "stream",
     "text": [
      "     4    0    1    2    3\n",
      "0    2  5.7  3.0  4.2  1.2\n",
      "1    2  6.3  2.3  4.4  1.3\n",
      "2    2  5.1  2.5  3.0  1.1\n",
      "3    0  5.1  3.8  1.6  0.2\n",
      "4    1  6.3  2.5  5.0  1.9\n",
      "..  ..  ...  ...  ...  ...\n",
      "145  1  6.7  3.3  5.7  2.1\n",
      "146  0  5.4  3.9  1.7  0.4\n",
      "147  0  4.9  3.1  1.5  0.1\n",
      "148  1  7.2  3.0  5.8  1.6\n",
      "149  0  5.0  3.5  1.3  0.3\n",
      "\n",
      "[150 rows x 5 columns]\n"
     ]
    }
   ],
   "source": [
    "# Change label column index\n",
    "data = data[[4, 0, 1, 2, 3]]\n",
    "\n",
    "print(data)"
   ]
  },
  {
   "cell_type": "code",
   "execution_count": 13,
   "id": "512f1f5e",
   "metadata": {},
   "outputs": [],
   "source": [
    "# Split (train, val sets)\n",
    "train_data = data[:120]\n",
    "val_data = data[120:]"
   ]
  },
  {
   "cell_type": "markdown",
   "id": "a24d0739",
   "metadata": {},
   "source": [
    "# Move Data Into S3 Bucket"
   ]
  },
  {
   "cell_type": "code",
   "execution_count": 14,
   "id": "a4015e09",
   "metadata": {},
   "outputs": [],
   "source": [
    "import boto3\n",
    "\n",
    "bucket_name = \"sagemaker--build-and-deploy-model-sagemaker\"\n",
    "\n",
    "# Tarin data\n",
    "train_data.to_csv(\"data.csv\", header=False, index=False)\n",
    "key = \"data/train/data\"\n",
    "url = \"s3://{}/{}\".format(bucket_name, key)\n",
    "boto3.Session().resource(\"s3\").Bucket(bucket_name).Object(key).upload_file(\"data.csv\") \n",
    "\n",
    "# Validation data\n",
    "val_data.to_csv(\"data.csv\", header=False, index=False)\n",
    "key = \"data/val/data\"\n",
    "url = \"s3://{}/{}\".format(bucket_name, key)\n",
    "boto3.Session().resource(\"s3\").Bucket(bucket_name).Object(key).upload_file(\"data.csv\") "
   ]
  },
  {
   "cell_type": "markdown",
   "id": "73e87cba",
   "metadata": {},
   "source": [
    "# Create Model"
   ]
  },
  {
   "cell_type": "code",
   "execution_count": 21,
   "id": "c0eda98b",
   "metadata": {},
   "outputs": [
    {
     "name": "stderr",
     "output_type": "stream",
     "text": [
      "INFO:sagemaker.image_uris:Ignoring unnecessary instance type: None.\n"
     ]
    }
   ],
   "source": [
    "import sagemaker \n",
    "from sagemaker import get_execution_role\n",
    "\n",
    "bucket_name = \"sagemaker--build-and-deploy-model-sagemaker\"\n",
    "key = \"model/xgb_model\"\n",
    "\n",
    "# Output location for model\n",
    "s3_output_location = url = \"s3://{}/{}\".format(bucket_name, key)\n",
    "\n",
    "# Fetch the correct XGBoost image URI (new method)\n",
    "xgboost_container = sagemaker.image_uris.retrieve(\"xgboost\", boto3.Session().region_name, version=\"1.5-1\")\n",
    "\n",
    "# Define the Estimator\n",
    "xgb_model = sagemaker.estimator.Estimator(\n",
    "    image_uri=xgboost_container,\n",
    "    role=get_execution_role(),\n",
    "    instance_count=1,\n",
    "    instance_type=\"ml.m5.xlarge\",\n",
    "    volume_size=5, \n",
    "    output_path=s3_output_location,\n",
    "    sagemaker_session=sagemaker.Session()\n",
    ")\n",
    "\n",
    "# Set hyperparameters\n",
    "xgb_model.set_hyperparameters(\n",
    "    max_depth=5,\n",
    "    eta=0.2,\n",
    "    gamma=4,\n",
    "    min_child_weight=6,\n",
    "    verbosity=0,\n",
    "    objective=\"multi:softmax\",\n",
    "    num_class=3,\n",
    "    num_round=10\n",
    ")"
   ]
  },
  {
   "cell_type": "markdown",
   "id": "28be8b94",
   "metadata": {},
   "source": [
    "# Train Model"
   ]
  },
  {
   "cell_type": "code",
   "execution_count": 22,
   "id": "ab0c17cd",
   "metadata": {},
   "outputs": [
    {
     "name": "stderr",
     "output_type": "stream",
     "text": [
      "INFO:sagemaker:Creating training-job with name: sagemaker-xgboost-2024-10-08-09-33-57-104\n"
     ]
    },
    {
     "name": "stdout",
     "output_type": "stream",
     "text": [
      "2024-10-08 09:33:58 Starting - Starting the training job...\n",
      "2024-10-08 09:34:32 Downloading - Downloading input data...\n",
      "2024-10-08 09:34:52 Downloading - Downloading the training image.....\u001b[34m/miniconda3/lib/python3.8/site-packages/xgboost/compat.py:36: FutureWarning: pandas.Int64Index is deprecated and will be removed from pandas in a future version. Use pandas.Index with the appropriate dtype instead.\n",
      "  from pandas import MultiIndex, Int64Index\u001b[0m\n",
      "\u001b[34m[2024-10-08 09:35:45.045 ip-10-0-69-154.eu-north-1.compute.internal:7 INFO utils.py:28] RULE_JOB_STOP_SIGNAL_FILENAME: None\u001b[0m\n",
      "\u001b[34m[2024-10-08 09:35:45.066 ip-10-0-69-154.eu-north-1.compute.internal:7 INFO profiler_config_parser.py:111] User has disabled profiler.\u001b[0m\n",
      "\u001b[34m[2024-10-08:09:35:45:INFO] Imported framework sagemaker_xgboost_container.training\u001b[0m\n",
      "\u001b[34m[2024-10-08:09:35:45:INFO] Failed to parse hyperparameter objective value multi:softmax to Json.\u001b[0m\n",
      "\u001b[34mReturning the value itself\u001b[0m\n",
      "\u001b[34m[2024-10-08:09:35:45:INFO] No GPUs detected (normal if no gpus installed)\u001b[0m\n",
      "\u001b[34m[2024-10-08:09:35:45:INFO] Running XGBoost Sagemaker in algorithm mode\u001b[0m\n",
      "\u001b[34m[2024-10-08:09:35:45:INFO] Determined 0 GPU(s) available on the instance.\u001b[0m\n",
      "\u001b[34m[2024-10-08:09:35:45:INFO] Determined delimiter of CSV input is ','\u001b[0m\n",
      "\u001b[34m[2024-10-08:09:35:45:INFO] Determined delimiter of CSV input is ','\u001b[0m\n",
      "\u001b[34m[2024-10-08:09:35:45:INFO] files path: /opt/ml/input/data/train\u001b[0m\n",
      "\u001b[34m[2024-10-08:09:35:45:INFO] Determined delimiter of CSV input is ','\u001b[0m\n",
      "\u001b[34m[2024-10-08:09:35:45:INFO] files path: /opt/ml/input/data/validation\u001b[0m\n",
      "\u001b[34m[2024-10-08:09:35:45:INFO] Determined delimiter of CSV input is ','\u001b[0m\n",
      "\u001b[34m[2024-10-08:09:35:45:INFO] Single node training.\u001b[0m\n",
      "\u001b[34m[2024-10-08:09:35:45:INFO] Train matrix has 120 rows and 4 columns\u001b[0m\n",
      "\u001b[34m[2024-10-08:09:35:45:INFO] Validation matrix has 30 rows\u001b[0m\n",
      "\u001b[34m[2024-10-08 09:35:45.455 ip-10-0-69-154.eu-north-1.compute.internal:7 INFO json_config.py:92] Creating hook from json_config at /opt/ml/input/config/debughookconfig.json.\u001b[0m\n",
      "\u001b[34m[2024-10-08 09:35:45.456 ip-10-0-69-154.eu-north-1.compute.internal:7 INFO hook.py:206] tensorboard_dir has not been set for the hook. SMDebug will not be exporting tensorboard summaries.\u001b[0m\n",
      "\u001b[34m[2024-10-08 09:35:45.456 ip-10-0-69-154.eu-north-1.compute.internal:7 INFO hook.py:259] Saving to /opt/ml/output/tensors\u001b[0m\n",
      "\u001b[34m[2024-10-08 09:35:45.457 ip-10-0-69-154.eu-north-1.compute.internal:7 INFO state_store.py:77] The checkpoint config file /opt/ml/input/config/checkpointconfig.json does not exist.\u001b[0m\n",
      "\u001b[34m[2024-10-08:09:35:45:INFO] Debug hook created from config\u001b[0m\n",
      "\u001b[34m[2024-10-08 09:35:45.472 ip-10-0-69-154.eu-north-1.compute.internal:7 INFO hook.py:427] Monitoring the collections: metrics\u001b[0m\n",
      "\u001b[34m[2024-10-08 09:35:45.474 ip-10-0-69-154.eu-north-1.compute.internal:7 INFO hook.py:491] Hook is writing from the hook with pid: 7\u001b[0m\n",
      "\u001b[34m[0]#011train-mlogloss:0.85899#011validation-mlogloss:0.87256\u001b[0m\n",
      "\u001b[34m[1]#011train-mlogloss:0.69101#011validation-mlogloss:0.71607\u001b[0m\n",
      "\u001b[34m[2]#011train-mlogloss:0.56754#011validation-mlogloss:0.60277\u001b[0m\n",
      "\u001b[34m[3]#011train-mlogloss:0.47291#011validation-mlogloss:0.50125\u001b[0m\n",
      "\u001b[34m[4]#011train-mlogloss:0.39920#011validation-mlogloss:0.43656\u001b[0m\n",
      "\u001b[34m[5]#011train-mlogloss:0.34005#011validation-mlogloss:0.37199\u001b[0m\n",
      "\u001b[34m[6]#011train-mlogloss:0.29312#011validation-mlogloss:0.33053\u001b[0m\n",
      "\u001b[34m[7]#011train-mlogloss:0.25524#011validation-mlogloss:0.28850\u001b[0m\n",
      "\u001b[34m[8]#011train-mlogloss:0.23380#011validation-mlogloss:0.27037\u001b[0m\n",
      "\u001b[34m[9]#011train-mlogloss:0.21523#011validation-mlogloss:0.25168\u001b[0m\n",
      "\n",
      "2024-10-08 09:36:02 Training - Training image download completed. Training in progress.\n",
      "2024-10-08 09:36:02 Uploading - Uploading generated training model\n",
      "2024-10-08 09:36:02 Completed - Training job completed\n",
      "Training seconds: 89\n",
      "Billable seconds: 89\n"
     ]
    }
   ],
   "source": [
    "from sagemaker.inputs import TrainingInput\n",
    "\n",
    "train_data = \"s3://{}/{}\".format(bucket_name, \"data/train\")\n",
    "val_data = \"s3://{}/{}\".format(bucket_name, \"data/val\")\n",
    "\n",
    "train_channel = TrainingInput(train_data, content_type=\"text/csv\")\n",
    "val_channel = TrainingInput(val_data, content_type=\"text/csv\")\n",
    "\n",
    "data_channels = {\"train\": train_channel, \"validation\": val_channel}\n",
    "\n",
    "xgb_model.fit(inputs=data_channels)"
   ]
  },
  {
   "cell_type": "markdown",
   "id": "650d570b",
   "metadata": {},
   "source": [
    "# Deploy Model"
   ]
  },
  {
   "cell_type": "code",
   "execution_count": 23,
   "id": "3c917f1c",
   "metadata": {},
   "outputs": [
    {
     "name": "stderr",
     "output_type": "stream",
     "text": [
      "INFO:sagemaker:Creating model with name: sagemaker-xgboost-2024-10-08-09-38-24-712\n",
      "INFO:sagemaker:Creating endpoint-config with name sagemaker-xgboost-2024-10-08-09-38-24-712\n",
      "INFO:sagemaker:Creating endpoint with name sagemaker-xgboost-2024-10-08-09-38-24-712\n"
     ]
    },
    {
     "name": "stdout",
     "output_type": "stream",
     "text": [
      "-----!"
     ]
    }
   ],
   "source": [
    "xgb_predictor = xgb_model.deploy(initial_instance_count=1, instance_type=\"ml.m5.xlarge\")"
   ]
  }
 ],
 "metadata": {
  "kernelspec": {
   "display_name": "conda_python3",
   "language": "python",
   "name": "conda_python3"
  },
  "language_info": {
   "codemirror_mode": {
    "name": "ipython",
    "version": 3
   },
   "file_extension": ".py",
   "mimetype": "text/x-python",
   "name": "python",
   "nbconvert_exporter": "python",
   "pygments_lexer": "ipython3",
   "version": "3.10.14"
  }
 },
 "nbformat": 4,
 "nbformat_minor": 5
}
